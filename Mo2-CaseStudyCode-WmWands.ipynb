{
 "cells": [
  {
   "cell_type": "markdown",
   "metadata": {},
   "source": [
    "Write a Python app that will accept student names and GPAs and test if the student qualifies for either the Dean's List or the Honor Roll. Your app will:\n",
    "ask for and accept a student's last name.\n",
    "quit processing student records if the last name entered is 'ZZZ'.\n",
    "ask for and accept a student's first name.\n",
    "ask for and accept the student's GPA as a float.\n",
    "test if the student's GPA is 3.5 or greater and, if so, print a message saying that the student has made the Dean's List.\n",
    "test if the student's GPA is 3.25 or greater and, if so, print a message saying that the studnet has made the Honor Roll.\n",
    "Test your app using at least five students.\n",
    "Your header comments need to contain\n",
    "Your name\n",
    "The file name for your app\n",
    "A brief description of what your app will do"
   ]
  },
  {
   "cell_type": "code",
   "execution_count": null,
   "metadata": {},
   "outputs": [
    {
     "name": "stdout",
     "output_type": "stream",
     "text": [
      "Program terminated\n",
      "Congraulations, you are on the Deans list! er zzz 5.00 GPA.\n"
     ]
    }
   ],
   "source": [
    "#Mo2-LAB-CaseStudyCode\n",
    "#William Wands SDEV220 Mo2\n",
    "#This program recives students names and GPA statictics which are calculated to \n",
    "# locate the students postition on the Deans list or hornor roll.\n",
    "\n",
    "#-----------------------------------------------------------------------------\n",
    "\n",
    "#Dlist = str()\n",
    "#Hlist = str()\n",
    "\n",
    "\n",
    "fname = str(input('Please enter first name'))\n",
    "\n",
    "lname = str(input('Please enter last name'))\n",
    "\n",
    "GPA = float(input('Please enter the students GPA value.'))\n",
    "\n",
    "# if statement to end program\n",
    "if lname ==\"zzz\":\n",
    "   print(\"Program terminated\")\n",
    "        \n",
    "#if statement for the deans list\n",
    "if (5>= GPA >= 3.5):\n",
    "   print(\"Congraulations, you are on the Deans list!\" ,fname, lname, (f\"{GPA:.2f}\"), \"GPA.\")\n",
    "\n",
    "#elif statement for the Honor Roll\n",
    "elif (3.5> GPA >=3.25):\n",
    "   print(\"Congradulations you are on the Honor Roll!\" ,fname, lname, (f\"{GPA:.2f}\"),\"GPA.\")\n",
    "\n",
    "#elif statement for GPA above accepted threshold of grading system\n",
    "elif (GPA >5):\n",
    "   print(\"Scale does not exist\")\n",
    "#\n",
    "else:\n",
    "   print(\"Keep trying you will get there!\", fname)\n",
    "\n"
   ]
  },
  {
   "cell_type": "markdown",
   "metadata": {},
   "source": []
  }
 ],
 "metadata": {
  "kernelspec": {
   "display_name": "Python 3",
   "language": "python",
   "name": "python3"
  },
  "language_info": {
   "codemirror_mode": {
    "name": "ipython",
    "version": 3
   },
   "file_extension": ".py",
   "mimetype": "text/x-python",
   "name": "python",
   "nbconvert_exporter": "python",
   "pygments_lexer": "ipython3",
   "version": "3.13.0"
  }
 },
 "nbformat": 4,
 "nbformat_minor": 2
}
