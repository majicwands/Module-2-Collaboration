{
 "cells": [
  {
   "cell_type": "code",
   "execution_count": null,
   "metadata": {},
   "outputs": [
    {
     "name": "stdout",
     "output_type": "stream",
     "text": [
      "Scale does not exist\n"
     ]
    }
   ],
   "source": [
    "#Mo2 CaseStudyCode\n",
    "#William Wands SDEV220 Mo2\n",
    "#This program recives students names and GPA statictics which are calculated to \n",
    "# locate the students postition on the Deans list or hornor roll.\n",
    "\n",
    "#-----------------------------------------------------------------------------\n",
    "\n",
    "#Dlist = str()\n",
    "#Hlist = str()\n",
    "\n",
    "\n",
    "fname = str(input('Please enter first name'))\n",
    "\n",
    "lname = str(input('Please enter last name'))\n",
    "\n",
    "GPA = float(input('Please enter the students GPA value.'))\n",
    "\n",
    "#if (lname == zzz):\n",
    "#   print(\"Program terminated\")\n",
    "\n",
    "if (5>= GPA >= 3.5):\n",
    "   print(\"Congraulations, you are on the Deans list!\" ,fname, lname, (f\"{GPA:.2f}\"), \"GPA.\")\n",
    "\n",
    "elif (3.5> GPA >=3.25):\n",
    "   print(\"Congradulations you are on the Honor Roll!\" ,fname, lname, (f\"{GPA:.2f}\"),\"GPA.\")\n",
    "\n",
    "elif (GPA >5):\n",
    "   print(\"Scale does not exist\")\n",
    "\n",
    "else:\n",
    "   print(\"Keep trying you will get there!\", fname)\n",
    "\n"
   ]
  }
 ],
 "metadata": {
  "kernelspec": {
   "display_name": "Python 3",
   "language": "python",
   "name": "python3"
  },
  "language_info": {
   "codemirror_mode": {
    "name": "ipython",
    "version": 3
   },
   "file_extension": ".py",
   "mimetype": "text/x-python",
   "name": "python",
   "nbconvert_exporter": "python",
   "pygments_lexer": "ipython3",
   "version": "3.13.0"
  }
 },
 "nbformat": 4,
 "nbformat_minor": 2
}
