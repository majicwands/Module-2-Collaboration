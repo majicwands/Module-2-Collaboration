{
 "cells": [
  {
   "cell_type": "markdown",
   "metadata": {},
   "source": [
    "#sec4.2 11-5-2024\n",
    "#William Wands SDEV220\n",
    "#4.2 Assign True or False to the variables small and green. Write some if/else statements to print which of these matches those choices: cherry, pea, watermelon, pumpkin"
   ]
  },
  {
   "cell_type": "code",
   "execution_count": null,
   "metadata": {},
   "outputs": [],
   "source": [
    "produce = [\"green\", \"small\"]\n",
    "input(\"please enter the produce name\" , str(produce))\n",
    "if produce=():\n",
    "    print(\"Yes that is a Pea\")\n",
    "else: \n",
    "Print(\" no that is not a Pea\", produce)"
   ]
  }
 ],
 "metadata": {
  "kernelspec": {
   "display_name": "Python 3",
   "language": "python",
   "name": "python3"
  },
  "language_info": {
   "name": "python",
   "version": "3.13.0"
  }
 },
 "nbformat": 4,
 "nbformat_minor": 2
}
