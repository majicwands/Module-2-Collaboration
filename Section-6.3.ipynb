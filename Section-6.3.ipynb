{
 "cells": [
  {
   "cell_type": "markdown",
   "metadata": {},
   "source": [
    "SDEV220-2024\n",
    "William Wands\n",
    "Sec 6.3 Assign the value 5 to the variable guess_me. Use a for loop to iterate a variable called number over range(10). If number is less than guess_me, print 'too low'. If it equals guess_me, print found it! and then break out of the for loop. If number is greater than guess_me, print 'oops' and then exit the loop"
   ]
  },
  {
   "cell_type": "code",
   "execution_count": null,
   "metadata": {
    "vscode": {
     "languageId": "plaintext"
    }
   },
   "outputs": [],
   "source": [
    "#list can hold multiple items in on structure or variable\n",
    "\n",
    "#make a blank or empty list\n",
    "#my_list = []\n",
    "\n",
    "#intialize a list with some data\n",
    "#fruits = [\"banana\", \"apple\", \"cherry\"]\n",
    "#grab all the fruits from a list and display them\n",
    "#we can use our for in loop\n",
    "#for item in list of items\n",
    "#for item in fruits:\n",
    "#    print(item)"
   ]
  },
  {
   "cell_type": "code",
   "execution_count": null,
   "metadata": {
    "vscode": {
     "languageId": "plaintext"
    }
   },
   "outputs": [],
   "source": [
    "my_list = []\n",
    "\n",
    "numbers = [1,3,5,7,9,2,4,6,8,10]\n",
    "\n",
    "guess_me = 5\n",
    "\n",
    "\n",
    "for  item = 5 in numbers\n",
    "   print(\"found it!)\n",
    "\n"
   ]
  }
 ],
 "metadata": {
  "language_info": {
   "name": "python"
  }
 },
 "nbformat": 4,
 "nbformat_minor": 2
}
