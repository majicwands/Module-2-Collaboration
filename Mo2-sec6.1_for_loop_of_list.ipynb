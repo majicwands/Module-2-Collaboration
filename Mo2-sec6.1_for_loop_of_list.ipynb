{
 "cells": [
  {
   "cell_type": "markdown",
   "metadata": {},
   "source": [
    "SDEV220-Mo2-sec6.1\n",
    "william wands\n",
    "6.1 Use a for loop to print the values of the list [3, 2, 1, 0]."
   ]
  }
 ],
 "metadata": {
  "language_info": {
   "name": "python"
  }
 },
 "nbformat": 4,
 "nbformat_minor": 2
}
