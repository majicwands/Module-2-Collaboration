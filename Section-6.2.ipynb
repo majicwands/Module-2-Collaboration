{
 "cells": [
  {
   "cell_type": "markdown",
   "metadata": {},
   "source": [
    "SDEV220-2024\n",
    "William Wands\n",
    "6.2 Assign the value 7 to the variable guess_me, and the value 1 to the variable number. Write a while loop that compares number with guess_me. Print 'too low' if number is less than guess me. If number equals guess_me, print 'found it!' and then exit the loop. If number is greater than guess_me, print 'oops' and then exit the loop. Increment number at the end of the loop"
   ]
  },
  {
   "cell_type": "code",
   "execution_count": null,
   "metadata": {},
   "outputs": [],
   "source": [
    "guess_me = 7\n",
    "var_num = 1\n",
    "#flag\n",
    "end = (\"found it!\") or (\"oops\")\n",
    "\n",
    "#a while loop is continious until \"found it!\"\" or \"oops\" is printed\n",
    "\n",
    "while end "
   ]
  }
 ],
 "metadata": {
  "language_info": {
   "name": "python"
  }
 },
 "nbformat": 4,
 "nbformat_minor": 2
}
